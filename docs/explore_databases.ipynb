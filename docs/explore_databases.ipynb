{
 "cells": [
  {
   "cell_type": "code",
   "id": "initial_id",
   "metadata": {
    "collapsed": true,
    "ExecuteTime": {
     "end_time": "2025-05-12T13:35:19.396163Z",
     "start_time": "2025-05-12T13:35:19.392299Z"
    }
   },
   "source": [
    "import decoupler as dc\n",
    "from pathlib import Path\n",
    "import os\n",
    "import nichecompass as nc\n",
    "import pandas as pd\n",
    "import numpy as np"
   ],
   "outputs": [],
   "execution_count": 6
  },
  {
   "metadata": {},
   "cell_type": "markdown",
   "source": [
    "# Explore different databases\n",
    "From Niche compass we can query:\n",
    "- omnipath lr interactions\n",
    "- collectri tf networks\n",
    "- mebocost es interactions\n",
    "- nichenet lrt interactions\n",
    "\n",
    "From Decoupler we can query omnipath with the following resources:"
   ],
   "id": "b78c82cc55344017"
  },
  {
   "metadata": {
    "ExecuteTime": {
     "end_time": "2025-05-12T13:33:17.868268Z",
     "start_time": "2025-05-12T13:33:17.646727Z"
    }
   },
   "cell_type": "code",
   "source": "dc.show_resources()",
   "id": "cb32a1388563e13a",
   "outputs": [
    {
     "data": {
      "text/plain": [
       "['Adhesome',\n",
       " 'Almen2009',\n",
       " 'Baccin2019',\n",
       " 'CORUM_Funcat',\n",
       " 'CORUM_GO',\n",
       " 'CPAD',\n",
       " 'CSPA',\n",
       " 'CSPA_celltype',\n",
       " 'CancerDrugsDB',\n",
       " 'CancerGeneCensus',\n",
       " 'CancerSEA',\n",
       " 'CellCall',\n",
       " 'CellCellInteractions',\n",
       " 'CellChatDB',\n",
       " 'CellChatDB_complex',\n",
       " 'CellPhoneDB',\n",
       " 'CellPhoneDB_complex',\n",
       " 'CellTalkDB',\n",
       " 'CellTypist',\n",
       " 'Cellinker',\n",
       " 'Cellinker_complex',\n",
       " 'ComPPI',\n",
       " 'CytoSig',\n",
       " 'DGIdb',\n",
       " 'DisGeNet',\n",
       " 'EMBRACE',\n",
       " 'Exocarta',\n",
       " 'GO_Intercell',\n",
       " 'GPCRdb',\n",
       " 'Guide2Pharma',\n",
       " 'HGNC',\n",
       " 'HPA_secretome',\n",
       " 'HPA_subcellular',\n",
       " 'HPA_tissue',\n",
       " 'HPMR',\n",
       " 'HumanCellMap',\n",
       " 'ICELLNET',\n",
       " 'ICELLNET_complex',\n",
       " 'IntOGen',\n",
       " 'Integrins',\n",
       " 'InterPro',\n",
       " 'KEGG',\n",
       " 'KEGG-PC',\n",
       " 'Kirouac2010',\n",
       " 'LOCATE',\n",
       " 'LRdb',\n",
       " 'Lambert2018',\n",
       " 'MCAM',\n",
       " 'MSigDB',\n",
       " 'Matrisome',\n",
       " 'MatrixDB',\n",
       " 'Membranome',\n",
       " 'NetPath',\n",
       " 'OPM',\n",
       " 'PROGENy',\n",
       " 'PanglaoDB',\n",
       " 'Phobius',\n",
       " 'Phosphatome',\n",
       " 'Ramilowski2015',\n",
       " 'Ramilowski_location',\n",
       " 'SIGNOR',\n",
       " 'SignaLink_function',\n",
       " 'SignaLink_pathway',\n",
       " 'Surfaceome',\n",
       " 'TCDB',\n",
       " 'TFcensus',\n",
       " 'TopDB',\n",
       " 'UniProt_family',\n",
       " 'UniProt_keyword',\n",
       " 'UniProt_location',\n",
       " 'UniProt_tissue',\n",
       " 'UniProt_topology',\n",
       " 'Vesiclepedia',\n",
       " 'Wang',\n",
       " 'Zhong2015',\n",
       " 'connectomeDB2020',\n",
       " 'iTALK',\n",
       " 'kinase.com',\n",
       " 'scConnect',\n",
       " 'scConnect_complex',\n",
       " 'talklr']"
      ]
     },
     "execution_count": 2,
     "metadata": {},
     "output_type": "execute_result"
    }
   ],
   "execution_count": 2
  },
  {
   "metadata": {},
   "cell_type": "markdown",
   "source": [
    "## Let's start with gene programs from Niche compass\n",
    "\n",
    "### Omnipath apy for lr interactions of mouse organism"
   ],
   "id": "eec7282ac202cee1"
  },
  {
   "metadata": {
    "ExecuteTime": {
     "end_time": "2025-05-12T13:36:21.701504Z",
     "start_time": "2025-05-12T13:36:10.019401Z"
    }
   },
   "cell_type": "code",
   "source": [
    "lr_interactions = nc.utils.extract_gp_dict_from_omnipath_lr_interactions(\n",
    "    species=\"mouse\",\n",
    "    gene_orthologs_mapping_file_path=Path(os.getcwd()).parents[1] / \"data\" / \"raw\" / \"human_mouse_gene_orthologs.csv\",\n",
    "    plot_gp_gene_count_distributions=False,\n",
    ")\n",
    "print(type(lr_interactions))"
   ],
   "id": "3c82dc57af388be3",
   "outputs": [
    {
     "name": "stdout",
     "output_type": "stream",
     "text": [
      "<class 'dict'>\n"
     ]
    }
   ],
   "execution_count": 8
  },
  {
   "metadata": {
    "ExecuteTime": {
     "end_time": "2025-05-12T14:07:23.085433Z",
     "start_time": "2025-05-12T14:07:23.063587Z"
    }
   },
   "cell_type": "code",
   "source": [
    "lr_df = pd.DataFrame.from_dict(lr_interactions, orient='index').reset_index()\n",
    "lr_df.columns = ['lr_name', 'sources', 'target', 'sources_categories', 'targets_categories']\n",
    "lr_df = lr_df.set_index('lr_name')\n",
    "lr_df.info()\n"
   ],
   "id": "2ec489750930a38c",
   "outputs": [
    {
     "name": "stdout",
     "output_type": "stream",
     "text": [
      "<class 'pandas.core.frame.DataFrame'>\n",
      "Index: 1042 entries, EPOR_ligand_receptor_GP to FCN1_ligand_receptor_GP\n",
      "Data columns (total 4 columns):\n",
      " #   Column              Non-Null Count  Dtype \n",
      "---  ------              --------------  ----- \n",
      " 0   sources             1042 non-null   object\n",
      " 1   target              1042 non-null   object\n",
      " 2   sources_categories  1042 non-null   object\n",
      " 3   targets_categories  1042 non-null   object\n",
      "dtypes: object(4)\n",
      "memory usage: 40.7+ KB\n"
     ]
    }
   ],
   "execution_count": 38
  },
  {
   "metadata": {
    "ExecuteTime": {
     "end_time": "2025-05-12T14:07:25.319483Z",
     "start_time": "2025-05-12T14:07:25.300741Z"
    }
   },
   "cell_type": "code",
   "source": "lr_df",
   "id": "75194f1a9da50037",
   "outputs": [
    {
     "data": {
      "text/plain": [
       "                                                    sources  \\\n",
       "lr_name                                                       \n",
       "EPOR_ligand_receptor_GP                              [EPOR]   \n",
       "FYN_ligand_receptor_GP                                [FYN]   \n",
       "KL_ligand_receptor_GP                                  [KL]   \n",
       "S100A10_ligand_receptor_GP                        [S100A10]   \n",
       "JAG2_ligand_receptor_GP                              [JAG2]   \n",
       "...                                                     ...   \n",
       "CHRD_ligand_receptor_GP                              [CHRD]   \n",
       "COMPLEX:IL6ST_LIFR_ligand_receptor_GP  [COMPLEX:IL6ST_LIFR]   \n",
       "ANGPTL5_ligand_receptor_GP                        [ANGPTL5]   \n",
       "ANGPTL6_ligand_receptor_GP                        [ANGPTL6]   \n",
       "FCN1_ligand_receptor_GP                              [FCN1]   \n",
       "\n",
       "                                                   target sources_categories  \\\n",
       "lr_name                                                                        \n",
       "EPOR_ligand_receptor_GP                           [STAT3]           [ligand]   \n",
       "FYN_ligand_receptor_GP                           [PIK3CD]           [ligand]   \n",
       "KL_ligand_receptor_GP                             [FGFR1]           [ligand]   \n",
       "S100A10_ligand_receptor_GP                      [PLA2G4A]           [ligand]   \n",
       "JAG2_ligand_receptor_GP                          [NOTCH4]           [ligand]   \n",
       "...                                                   ...                ...   \n",
       "CHRD_ligand_receptor_GP                           [BMPR2]           [ligand]   \n",
       "COMPLEX:IL6ST_LIFR_ligand_receptor_GP  [JAK1, JAK2, TYK2]           [ligand]   \n",
       "ANGPTL5_ligand_receptor_GP                          [TEK]           [ligand]   \n",
       "ANGPTL6_ligand_receptor_GP                          [TEK]           [ligand]   \n",
       "FCN1_ligand_receptor_GP                            [LRP1]           [ligand]   \n",
       "\n",
       "                                                   targets_categories  \n",
       "lr_name                                                                \n",
       "EPOR_ligand_receptor_GP                                    [receptor]  \n",
       "FYN_ligand_receptor_GP                                     [receptor]  \n",
       "KL_ligand_receptor_GP                                      [receptor]  \n",
       "S100A10_ligand_receptor_GP                                 [receptor]  \n",
       "JAG2_ligand_receptor_GP                                    [receptor]  \n",
       "...                                                               ...  \n",
       "CHRD_ligand_receptor_GP                                    [receptor]  \n",
       "COMPLEX:IL6ST_LIFR_ligand_receptor_GP  [receptor, receptor, receptor]  \n",
       "ANGPTL5_ligand_receptor_GP                                 [receptor]  \n",
       "ANGPTL6_ligand_receptor_GP                                 [receptor]  \n",
       "FCN1_ligand_receptor_GP                                    [receptor]  \n",
       "\n",
       "[1042 rows x 4 columns]"
      ],
      "text/html": [
       "<div>\n",
       "<style scoped>\n",
       "    .dataframe tbody tr th:only-of-type {\n",
       "        vertical-align: middle;\n",
       "    }\n",
       "\n",
       "    .dataframe tbody tr th {\n",
       "        vertical-align: top;\n",
       "    }\n",
       "\n",
       "    .dataframe thead th {\n",
       "        text-align: right;\n",
       "    }\n",
       "</style>\n",
       "<table border=\"1\" class=\"dataframe\">\n",
       "  <thead>\n",
       "    <tr style=\"text-align: right;\">\n",
       "      <th></th>\n",
       "      <th>sources</th>\n",
       "      <th>target</th>\n",
       "      <th>sources_categories</th>\n",
       "      <th>targets_categories</th>\n",
       "    </tr>\n",
       "    <tr>\n",
       "      <th>lr_name</th>\n",
       "      <th></th>\n",
       "      <th></th>\n",
       "      <th></th>\n",
       "      <th></th>\n",
       "    </tr>\n",
       "  </thead>\n",
       "  <tbody>\n",
       "    <tr>\n",
       "      <th>EPOR_ligand_receptor_GP</th>\n",
       "      <td>[EPOR]</td>\n",
       "      <td>[STAT3]</td>\n",
       "      <td>[ligand]</td>\n",
       "      <td>[receptor]</td>\n",
       "    </tr>\n",
       "    <tr>\n",
       "      <th>FYN_ligand_receptor_GP</th>\n",
       "      <td>[FYN]</td>\n",
       "      <td>[PIK3CD]</td>\n",
       "      <td>[ligand]</td>\n",
       "      <td>[receptor]</td>\n",
       "    </tr>\n",
       "    <tr>\n",
       "      <th>KL_ligand_receptor_GP</th>\n",
       "      <td>[KL]</td>\n",
       "      <td>[FGFR1]</td>\n",
       "      <td>[ligand]</td>\n",
       "      <td>[receptor]</td>\n",
       "    </tr>\n",
       "    <tr>\n",
       "      <th>S100A10_ligand_receptor_GP</th>\n",
       "      <td>[S100A10]</td>\n",
       "      <td>[PLA2G4A]</td>\n",
       "      <td>[ligand]</td>\n",
       "      <td>[receptor]</td>\n",
       "    </tr>\n",
       "    <tr>\n",
       "      <th>JAG2_ligand_receptor_GP</th>\n",
       "      <td>[JAG2]</td>\n",
       "      <td>[NOTCH4]</td>\n",
       "      <td>[ligand]</td>\n",
       "      <td>[receptor]</td>\n",
       "    </tr>\n",
       "    <tr>\n",
       "      <th>...</th>\n",
       "      <td>...</td>\n",
       "      <td>...</td>\n",
       "      <td>...</td>\n",
       "      <td>...</td>\n",
       "    </tr>\n",
       "    <tr>\n",
       "      <th>CHRD_ligand_receptor_GP</th>\n",
       "      <td>[CHRD]</td>\n",
       "      <td>[BMPR2]</td>\n",
       "      <td>[ligand]</td>\n",
       "      <td>[receptor]</td>\n",
       "    </tr>\n",
       "    <tr>\n",
       "      <th>COMPLEX:IL6ST_LIFR_ligand_receptor_GP</th>\n",
       "      <td>[COMPLEX:IL6ST_LIFR]</td>\n",
       "      <td>[JAK1, JAK2, TYK2]</td>\n",
       "      <td>[ligand]</td>\n",
       "      <td>[receptor, receptor, receptor]</td>\n",
       "    </tr>\n",
       "    <tr>\n",
       "      <th>ANGPTL5_ligand_receptor_GP</th>\n",
       "      <td>[ANGPTL5]</td>\n",
       "      <td>[TEK]</td>\n",
       "      <td>[ligand]</td>\n",
       "      <td>[receptor]</td>\n",
       "    </tr>\n",
       "    <tr>\n",
       "      <th>ANGPTL6_ligand_receptor_GP</th>\n",
       "      <td>[ANGPTL6]</td>\n",
       "      <td>[TEK]</td>\n",
       "      <td>[ligand]</td>\n",
       "      <td>[receptor]</td>\n",
       "    </tr>\n",
       "    <tr>\n",
       "      <th>FCN1_ligand_receptor_GP</th>\n",
       "      <td>[FCN1]</td>\n",
       "      <td>[LRP1]</td>\n",
       "      <td>[ligand]</td>\n",
       "      <td>[receptor]</td>\n",
       "    </tr>\n",
       "  </tbody>\n",
       "</table>\n",
       "<p>1042 rows × 4 columns</p>\n",
       "</div>"
      ]
     },
     "execution_count": 39,
     "metadata": {},
     "output_type": "execute_result"
    }
   ],
   "execution_count": 39
  },
  {
   "metadata": {},
   "cell_type": "markdown",
   "source": "## Extract liana consensus LR database",
   "id": "ef5f25fe693220c1"
  },
  {
   "metadata": {
    "ExecuteTime": {
     "end_time": "2025-05-12T14:15:35.849129Z",
     "start_time": "2025-05-12T14:15:35.789916Z"
    }
   },
   "cell_type": "code",
   "source": [
    "import liana as li\n",
    "li.resource.show_resources()"
   ],
   "id": "bf2e3b44001666fe",
   "outputs": [
    {
     "data": {
      "text/plain": [
       "['baccin2019',\n",
       " 'cellcall',\n",
       " 'cellchatdb',\n",
       " 'cellinker',\n",
       " 'cellphonedb',\n",
       " 'celltalkdb',\n",
       " 'connectomedb2020',\n",
       " 'consensus',\n",
       " 'embrace',\n",
       " 'guide2pharma',\n",
       " 'hpmr',\n",
       " 'icellnet',\n",
       " 'italk',\n",
       " 'kirouac2010',\n",
       " 'lrdb',\n",
       " 'mouseconsensus',\n",
       " 'ramilowski2015']"
      ]
     },
     "execution_count": 51,
     "metadata": {},
     "output_type": "execute_result"
    }
   ],
   "execution_count": 51
  },
  {
   "metadata": {
    "ExecuteTime": {
     "end_time": "2025-05-12T14:15:39.714365Z",
     "start_time": "2025-05-12T14:15:39.684833Z"
    }
   },
   "cell_type": "code",
   "source": "lr_consensus = li.resource.select_resource(\"mouseconsensus\")",
   "id": "af1da0ff3933bbfe",
   "outputs": [],
   "execution_count": 52
  },
  {
   "metadata": {
    "ExecuteTime": {
     "end_time": "2025-05-12T14:12:54.027399Z",
     "start_time": "2025-05-12T14:12:54.020175Z"
    }
   },
   "cell_type": "code",
   "source": "lr_consensus",
   "id": "f2ed46656d255d15",
   "outputs": [
    {
     "data": {
      "text/plain": [
       "      ligand receptor\n",
       "0     LGALS9    PTPRC\n",
       "1     LGALS9      MET\n",
       "2     LGALS9     CD44\n",
       "3     LGALS9     LRP1\n",
       "4     LGALS9     CD47\n",
       "...      ...      ...\n",
       "4619    BMP2    ACTR2\n",
       "4620   BMP15    ACTR2\n",
       "4621    CSF1    CSF3R\n",
       "4622   IL36G   IFNAR1\n",
       "4623   IL36G   IFNAR2\n",
       "\n",
       "[4624 rows x 2 columns]"
      ],
      "text/html": [
       "<div>\n",
       "<style scoped>\n",
       "    .dataframe tbody tr th:only-of-type {\n",
       "        vertical-align: middle;\n",
       "    }\n",
       "\n",
       "    .dataframe tbody tr th {\n",
       "        vertical-align: top;\n",
       "    }\n",
       "\n",
       "    .dataframe thead th {\n",
       "        text-align: right;\n",
       "    }\n",
       "</style>\n",
       "<table border=\"1\" class=\"dataframe\">\n",
       "  <thead>\n",
       "    <tr style=\"text-align: right;\">\n",
       "      <th></th>\n",
       "      <th>ligand</th>\n",
       "      <th>receptor</th>\n",
       "    </tr>\n",
       "  </thead>\n",
       "  <tbody>\n",
       "    <tr>\n",
       "      <th>0</th>\n",
       "      <td>LGALS9</td>\n",
       "      <td>PTPRC</td>\n",
       "    </tr>\n",
       "    <tr>\n",
       "      <th>1</th>\n",
       "      <td>LGALS9</td>\n",
       "      <td>MET</td>\n",
       "    </tr>\n",
       "    <tr>\n",
       "      <th>2</th>\n",
       "      <td>LGALS9</td>\n",
       "      <td>CD44</td>\n",
       "    </tr>\n",
       "    <tr>\n",
       "      <th>3</th>\n",
       "      <td>LGALS9</td>\n",
       "      <td>LRP1</td>\n",
       "    </tr>\n",
       "    <tr>\n",
       "      <th>4</th>\n",
       "      <td>LGALS9</td>\n",
       "      <td>CD47</td>\n",
       "    </tr>\n",
       "    <tr>\n",
       "      <th>...</th>\n",
       "      <td>...</td>\n",
       "      <td>...</td>\n",
       "    </tr>\n",
       "    <tr>\n",
       "      <th>4619</th>\n",
       "      <td>BMP2</td>\n",
       "      <td>ACTR2</td>\n",
       "    </tr>\n",
       "    <tr>\n",
       "      <th>4620</th>\n",
       "      <td>BMP15</td>\n",
       "      <td>ACTR2</td>\n",
       "    </tr>\n",
       "    <tr>\n",
       "      <th>4621</th>\n",
       "      <td>CSF1</td>\n",
       "      <td>CSF3R</td>\n",
       "    </tr>\n",
       "    <tr>\n",
       "      <th>4622</th>\n",
       "      <td>IL36G</td>\n",
       "      <td>IFNAR1</td>\n",
       "    </tr>\n",
       "    <tr>\n",
       "      <th>4623</th>\n",
       "      <td>IL36G</td>\n",
       "      <td>IFNAR2</td>\n",
       "    </tr>\n",
       "  </tbody>\n",
       "</table>\n",
       "<p>4624 rows × 2 columns</p>\n",
       "</div>"
      ]
     },
     "execution_count": 48,
     "metadata": {},
     "output_type": "execute_result"
    }
   ],
   "execution_count": 48
  },
  {
   "metadata": {},
   "cell_type": "markdown",
   "source": "## Extract nichenet lrt interactions",
   "id": "7f1f44f969b9cb5"
  },
  {
   "metadata": {
    "ExecuteTime": {
     "end_time": "2025-05-12T15:26:43.767273Z",
     "start_time": "2025-05-12T15:25:23.666178Z"
    }
   },
   "cell_type": "code",
   "source": [
    "lrt_interactions = nc.utils.extract_gp_dict_from_nichenet_lrt_interactions(\n",
    "    species=\"mouse\",\n",
    "    gene_orthologs_mapping_file_path=Path(os.getcwd()).parents[0] / \"data\" / \"raw\" / \"human_mouse_gene_orthologs.csv\",\n",
    "    plot_gp_gene_count_distributions=False,\n",
    ")"
   ],
   "id": "acbbe127c76e36da",
   "outputs": [
    {
     "name": "stdout",
     "output_type": "stream",
     "text": [
      "Downloading NicheNet ligand receptor network 'v2' from the web...\n",
      "Downloading NicheNet ligand target matrix 'v2' from the web. This might take a while...\n"
     ]
    },
    {
     "name": "stderr",
     "output_type": "stream",
     "text": [
      "/home/bio/PhD/projects/mlnetst/.venv/lib/python3.12/site-packages/nichecompass/utils/gene_programs.py:496: FutureWarning: DataFrame.applymap has been deprecated. Use DataFrame.map instead.\n"
     ]
    }
   ],
   "execution_count": 88
  },
  {
   "metadata": {
    "ExecuteTime": {
     "end_time": "2025-05-12T15:26:48.084335Z",
     "start_time": "2025-05-12T15:26:48.069325Z"
    }
   },
   "cell_type": "code",
   "source": [
    "lrt_df = pd.DataFrame.from_dict(lrt_interactions, orient='index').reset_index()\n",
    "lrt_df.columns = ['lrt_name', 'sources', 'targets', 'sources_categories', 'targets_categories']\n",
    "lrt_df = lrt_df.set_index('lrt_name')\n",
    "lrt_df.info()"
   ],
   "id": "52cc8d0376c95813",
   "outputs": [
    {
     "name": "stdout",
     "output_type": "stream",
     "text": [
      "<class 'pandas.core.frame.DataFrame'>\n",
      "Index: 1287 entries, 2300002M23Rik_ligand_receptor_target_gene_GP to Zpbp2_ligand_receptor_target_gene_GP\n",
      "Data columns (total 4 columns):\n",
      " #   Column              Non-Null Count  Dtype \n",
      "---  ------              --------------  ----- \n",
      " 0   sources             1287 non-null   object\n",
      " 1   targets             1287 non-null   object\n",
      " 2   sources_categories  1287 non-null   object\n",
      " 3   targets_categories  1287 non-null   object\n",
      "dtypes: object(4)\n",
      "memory usage: 50.3+ KB\n"
     ]
    }
   ],
   "execution_count": 89
  },
  {
   "metadata": {},
   "cell_type": "markdown",
   "source": "### Reading nichenet weighted networks for mouse from resource etracted from main nichenet repo",
   "id": "321fa14d032d36dd"
  },
  {
   "metadata": {
    "ExecuteTime": {
     "end_time": "2025-05-12T15:27:26.341095Z",
     "start_time": "2025-05-12T15:27:23.617991Z"
    }
   },
   "cell_type": "code",
   "source": [
    "gr_df = pd.read_csv(Path(os.getcwd()).parents[0] / \"data\" / \"raw\" / \"gr.csv\",)\n",
    "lr_sig_df = pd.read_csv(Path(os.getcwd()).parents[0] / \"data\" / \"raw\" / \"lr_sig.csv\",)\n",
    "\n",
    "print(gr_df.info())\n",
    "print(lr_sig_df.info())"
   ],
   "id": "d63b104c856d2cef",
   "outputs": [
    {
     "name": "stdout",
     "output_type": "stream",
     "text": [
      "<class 'pandas.core.frame.DataFrame'>\n",
      "RangeIndex: 4364411 entries, 0 to 4364410\n",
      "Data columns (total 3 columns):\n",
      " #   Column  Dtype  \n",
      "---  ------  -----  \n",
      " 0   from    object \n",
      " 1   to      object \n",
      " 2   weight  float64\n",
      "dtypes: float64(1), object(2)\n",
      "memory usage: 99.9+ MB\n",
      "None\n",
      "<class 'pandas.core.frame.DataFrame'>\n",
      "RangeIndex: 3865137 entries, 0 to 3865136\n",
      "Data columns (total 3 columns):\n",
      " #   Column  Dtype  \n",
      "---  ------  -----  \n",
      " 0   from    object \n",
      " 1   to      object \n",
      " 2   weight  float64\n",
      "dtypes: float64(1), object(2)\n",
      "memory usage: 88.5+ MB\n",
      "None\n"
     ]
    }
   ],
   "execution_count": 92
  },
  {
   "metadata": {},
   "cell_type": "markdown",
   "source": "## Extract mebocost es interactions",
   "id": "9f023437fd78609d"
  },
  {
   "metadata": {
    "ExecuteTime": {
     "end_time": "2025-05-12T13:49:10.235223Z",
     "start_time": "2025-05-12T13:49:08.686887Z"
    }
   },
   "cell_type": "code",
   "source": [
    "es_interactions = nc.utils.extract_gp_dict_from_mebocost_es_interactions(\n",
    "    species=\"mouse\",\n",
    "    plot_gp_gene_count_distributions=False,\n",
    "    dir_path=str(Path(os.getcwd()).parents[0] / \"data\" / \"raw\")\n",
    ")"
   ],
   "id": "b8d17b1b17b97d01",
   "outputs": [],
   "execution_count": 24
  },
  {
   "metadata": {
    "ExecuteTime": {
     "end_time": "2025-05-12T13:50:00.605614Z",
     "start_time": "2025-05-12T13:50:00.595147Z"
    }
   },
   "cell_type": "code",
   "source": [
    "es_df = pd.DataFrame.from_dict(es_interactions, orient='index').reset_index()\n",
    "es_df.columns = ['es_name', 'sources', 'sources_categories', 'targets', 'targets_categories']\n",
    "es_df = es_df.set_index('es_name')\n",
    "es_df.info()"
   ],
   "id": "e5cc192af7ff65a6",
   "outputs": [
    {
     "name": "stdout",
     "output_type": "stream",
     "text": [
      "<class 'pandas.core.frame.DataFrame'>\n",
      "Index: 137 entries, Deoxyuridine_metabolite_enzyme_sensor_GP to Iron_metabolite_enzyme_sensor_GP\n",
      "Data columns (total 4 columns):\n",
      " #   Column              Non-Null Count  Dtype \n",
      "---  ------              --------------  ----- \n",
      " 0   sources             137 non-null    object\n",
      " 1   sources_categories  137 non-null    object\n",
      " 2   targets             137 non-null    object\n",
      " 3   targets_categories  137 non-null    object\n",
      "dtypes: object(4)\n",
      "memory usage: 5.4+ KB\n"
     ]
    }
   ],
   "execution_count": 27
  },
  {
   "metadata": {},
   "cell_type": "markdown",
   "source": "## Extract niche compass gene program idea behind collectri TF network",
   "id": "3bf393bc69f12a91"
  },
  {
   "metadata": {
    "ExecuteTime": {
     "end_time": "2025-05-12T13:51:18.043517Z",
     "start_time": "2025-05-12T13:51:08.340070Z"
    }
   },
   "cell_type": "code",
   "source": [
    "tf_network = nc.utils.extract_gp_dict_from_collectri_tf_network(\n",
    "    species=\"mouse\",\n",
    "    plot_gp_gene_count_distributions=False,\n",
    ")"
   ],
   "id": "3790971ad9cb2f82",
   "outputs": [
    {
     "name": "stderr",
     "output_type": "stream",
     "text": [
      "/home/bio/PhD/projects/mlnetst/.venv/lib/python3.12/site-packages/liana/resource/_orthology.py:199: DtypeWarning: Columns (0) have mixed types. Specify dtype option on import or set low_memory=False.\n"
     ]
    }
   ],
   "execution_count": 28
  },
  {
   "metadata": {
    "ExecuteTime": {
     "end_time": "2025-05-12T13:51:33.637061Z",
     "start_time": "2025-05-12T13:51:33.622561Z"
    }
   },
   "cell_type": "code",
   "source": [
    "tf_df = pd.DataFrame.from_dict(tf_network, orient='index').reset_index()\n",
    "tf_df.columns = ['tf_name', 'sources', 'sources_categories', 'targets', 'targets_categories']\n",
    "tf_df = tf_df.set_index('tf_name')\n",
    "tf_df.info()"
   ],
   "id": "a2b1adb3703fc451",
   "outputs": [
    {
     "name": "stdout",
     "output_type": "stream",
     "text": [
      "<class 'pandas.core.frame.DataFrame'>\n",
      "Index: 1096 entries, AP1_TF_target_genes_GP to Zxdc_TF_target_genes_GP\n",
      "Data columns (total 4 columns):\n",
      " #   Column              Non-Null Count  Dtype \n",
      "---  ------              --------------  ----- \n",
      " 0   sources             1096 non-null   object\n",
      " 1   sources_categories  1096 non-null   object\n",
      " 2   targets             1096 non-null   object\n",
      " 3   targets_categories  1096 non-null   object\n",
      "dtypes: object(4)\n",
      "memory usage: 42.8+ KB\n"
     ]
    }
   ],
   "execution_count": 29
  },
  {
   "metadata": {},
   "cell_type": "markdown",
   "source": "# Extract decoupler collectri",
   "id": "a02c3b687f579424"
  },
  {
   "metadata": {
    "ExecuteTime": {
     "end_time": "2025-05-12T13:52:07.228302Z",
     "start_time": "2025-05-12T13:51:59.283999Z"
    }
   },
   "cell_type": "code",
   "source": [
    "net = dc.get_collectri(\n",
    "    organism = \"mouse\",\n",
    "    split_complexes=False,\n",
    ")"
   ],
   "id": "8936a507dc8e9c58",
   "outputs": [
    {
     "name": "stderr",
     "output_type": "stream",
     "text": [
      "/home/bio/PhD/projects/mlnetst/.venv/lib/python3.12/site-packages/liana/resource/_orthology.py:199: DtypeWarning: Columns (0) have mixed types. Specify dtype option on import or set low_memory=False.\n"
     ]
    }
   ],
   "execution_count": 30
  },
  {
   "metadata": {
    "ExecuteTime": {
     "end_time": "2025-05-12T13:54:04.375133Z",
     "start_time": "2025-05-12T13:54:04.363953Z"
    }
   },
   "cell_type": "code",
   "source": "net.info()",
   "id": "b1774fe4addd6535",
   "outputs": [
    {
     "name": "stdout",
     "output_type": "stream",
     "text": [
      "<class 'pandas.core.frame.DataFrame'>\n",
      "RangeIndex: 36867 entries, 0 to 36866\n",
      "Data columns (total 3 columns):\n",
      " #   Column  Non-Null Count  Dtype \n",
      "---  ------  --------------  ----- \n",
      " 0   source  36867 non-null  string\n",
      " 1   target  36867 non-null  string\n",
      " 2   weight  36867 non-null  Int64 \n",
      "dtypes: Int64(1), string(2)\n",
      "memory usage: 900.2 KB\n"
     ]
    }
   ],
   "execution_count": 33
  },
  {
   "metadata": {},
   "cell_type": "markdown",
   "source": "# Example of a data that we can intersect with the features of these metaresources",
   "id": "b6f42b6e09043eef"
  },
  {
   "metadata": {
    "ExecuteTime": {
     "end_time": "2025-05-12T13:58:15.952299Z",
     "start_time": "2025-05-12T13:58:07.984897Z"
    }
   },
   "cell_type": "code",
   "source": [
    "import anndata as ad\n",
    "x_hat_s = ad.read_h5ad(Path(os.getcwd()).parents[0] / \"data\" / \"processed\" / \"mouse1_slice153_x_hat_s.h5ad\")"
   ],
   "id": "21e23987d888c683",
   "outputs": [],
   "execution_count": 34
  },
  {
   "metadata": {
    "ExecuteTime": {
     "end_time": "2025-05-12T14:21:27.797275Z",
     "start_time": "2025-05-12T14:21:27.764795Z"
    }
   },
   "cell_type": "code",
   "source": [
    "lr_df = lr_consensus.copy()\n",
    "lr_df.info()\n",
    "\n",
    "lr_df_exploded = li.resource.explode_complexes(lr_df, SOURCE=\"ligand\", TARGET=\"receptor\")\n",
    "lr_df_exploded.info()"
   ],
   "id": "4070e6a58d84852b",
   "outputs": [
    {
     "name": "stdout",
     "output_type": "stream",
     "text": [
      "<class 'pandas.core.frame.DataFrame'>\n",
      "Index: 3989 entries, 31371 to 35359\n",
      "Data columns (total 2 columns):\n",
      " #   Column    Non-Null Count  Dtype \n",
      "---  ------    --------------  ----- \n",
      " 0   ligand    3989 non-null   object\n",
      " 1   receptor  3989 non-null   object\n",
      "dtypes: object(2)\n",
      "memory usage: 93.5+ KB\n",
      "<class 'pandas.core.frame.DataFrame'>\n",
      "RangeIndex: 5075 entries, 0 to 5074\n",
      "Data columns (total 5 columns):\n",
      " #   Column            Non-Null Count  Dtype \n",
      "---  ------            --------------  ----- \n",
      " 0   interaction       5075 non-null   object\n",
      " 1   ligand            5075 non-null   object\n",
      " 2   receptor          5075 non-null   object\n",
      " 3   ligand_complex    5075 non-null   object\n",
      " 4   receptor_complex  5075 non-null   object\n",
      "dtypes: object(5)\n",
      "memory usage: 198.4+ KB\n"
     ]
    }
   ],
   "execution_count": 63
  },
  {
   "metadata": {
    "ExecuteTime": {
     "end_time": "2025-05-12T14:21:29.774458Z",
     "start_time": "2025-05-12T14:21:29.758367Z"
    }
   },
   "cell_type": "code",
   "source": [
    "lr_df[\"ligand\"] = lr_df[\"ligand\"].str.lower()\n",
    "lr_df[\"receptor\"] = lr_df[\"receptor\"].str.lower()\n",
    "print(\n",
    "    len(set(x_hat_s.var_names).intersection(set(lr_df[\"ligand\"]))), \"/\", len(x_hat_s.var_names), \" | \", len(set(lr_df[\"ligand\"]))\n",
    "    )\n",
    "print(\n",
    "    len(set(x_hat_s.var_names).intersection(set(lr_df[\"receptor\"]))), \"/\", len(x_hat_s.var_names), \" | \", len(set(lr_df[\"receptor\"]))\n",
    "    )\n"
   ],
   "id": "6ecbecaf034524f9",
   "outputs": [
    {
     "name": "stdout",
     "output_type": "stream",
     "text": [
      "792 / 18450  |  878\n",
      "733 / 18450  |  907\n"
     ]
    }
   ],
   "execution_count": 64
  },
  {
   "metadata": {
    "ExecuteTime": {
     "end_time": "2025-05-12T14:21:31.747366Z",
     "start_time": "2025-05-12T14:21:31.725204Z"
    }
   },
   "cell_type": "code",
   "source": [
    "lr_df_exploded[\"ligand\"] = lr_df_exploded[\"ligand\"].str.lower()\n",
    "lr_df_exploded[\"receptor\"] = lr_df_exploded[\"receptor\"].str.lower()\n",
    "print(\n",
    "    len(set(x_hat_s.var_names).intersection(set(lr_df_exploded[\"ligand\"]))), \"/\", len(x_hat_s.var_names), \" | \", len(set(lr_df_exploded[\"ligand\"]))\n",
    "    )\n",
    "print(\n",
    "    len(set(x_hat_s.var_names).intersection(set(lr_df_exploded[\"receptor\"]))), \"/\", len(x_hat_s.var_names), \" | \", len(set(lr_df_exploded[\"receptor\"]))\n",
    "    )\n"
   ],
   "id": "52489abf4dee5824",
   "outputs": [
    {
     "name": "stdout",
     "output_type": "stream",
     "text": [
      "800 / 18450  |  873\n",
      "771 / 18450  |  795\n"
     ]
    }
   ],
   "execution_count": 65
  },
  {
   "metadata": {
    "ExecuteTime": {
     "end_time": "2025-05-12T15:43:51.290509Z",
     "start_time": "2025-05-12T15:43:51.162523Z"
    }
   },
   "cell_type": "code",
   "source": [
    "import squidpy as sq\n",
    "class_labels = x_hat_s.obs[\"class_label\"].astype(\"category\").cat.categories\n",
    "subclass_labels = x_hat_s.obs[\"subclass\"].astype(\"category\").cat.categories\n",
    "print(subclass_labels)\n",
    "\n",
    "x_hat_s.obsm[\"spatial\"] = np.array([(x,y) for x,y in zip(x_hat_s.obs[\"centroid_x\"], x_hat_s.obs[\"centroid_y\"])])\n",
    "for label in subclass_labels:\n",
    "    subsample_x_hat_s = x_hat_s[x_hat_s.obs[\"subclass\"] == label]\n",
    "    if subsample_x_hat_s.shape[0] <100:\n",
    "        continue"
   ],
   "id": "932fe37906aafd3c",
   "outputs": [
    {
     "name": "stdout",
     "output_type": "stream",
     "text": [
      "Index(['Astro', 'Endo', 'L2/3 IT', 'L4/5 IT', 'L5 ET', 'L5 IT', 'L5/6 NP',\n",
      "       'L6 CT', 'L6 IT', 'L6 IT Car3', 'L6b', 'Lamp5', 'Micro', 'OPC', 'Oligo',\n",
      "       'PVM', 'Peri', 'Pvalb', 'SMC', 'Sncg', 'Sst', 'VLMC', 'Vip', 'other'],\n",
      "      dtype='object')\n"
     ]
    }
   ],
   "execution_count": 96
  },
  {
   "metadata": {
    "ExecuteTime": {
     "end_time": "2025-05-12T15:06:48.473048Z",
     "start_time": "2025-05-12T15:06:42.346874Z"
    }
   },
   "cell_type": "code",
   "source": [
    "import omnipath as op\n",
    "resource = op.interactions.PostTranslational.get()"
   ],
   "id": "28062c94f99eef59",
   "outputs": [
    {
     "name": "stderr",
     "output_type": "stream",
     "text": [
      "11.7MB [00:00, 23.7MB/s]\n"
     ]
    }
   ],
   "execution_count": 83
  },
  {
   "metadata": {
    "ExecuteTime": {
     "end_time": "2025-05-12T15:44:15.635857Z",
     "start_time": "2025-05-12T15:44:12.941760Z"
    }
   },
   "cell_type": "code",
   "source": [
    "gr_df.info()\n",
    "gr_df[\"from\"] = gr_df[\"from\"].str.lower()\n",
    "gr_df[\"to\"] = gr_df[\"to\"].str.lower()\n",
    "\n",
    "SUBCLASSES_TO_EXPLORE = [\"Astro\", \"L2/3 IT\"]\n",
    "x_hat_s_subsampled = x_hat_s[x_hat_s.obs[\"subclass\"].isin(SUBCLASSES_TO_EXPLORE)]\n",
    "print(\n",
    "    len(set(x_hat_s_subsampled.var_names).intersection(set(gr_df[\"from\"]))), \"/\", len(x_hat_s_subsampled.var_names), \" | \", len(set(gr_df[\"from\"]))\n",
    "    )\n",
    "print(\n",
    "    len(set(x_hat_s_subsampled.var_names).intersection(set(gr_df[\"to\"]))), \"/\", len(x_hat_s_subsampled.var_names), \" | \", len(set(gr_df[\"to\"]))\n",
    "    )"
   ],
   "id": "a8b59e67085ad14f",
   "outputs": [
    {
     "name": "stdout",
     "output_type": "stream",
     "text": [
      "<class 'pandas.core.frame.DataFrame'>\n",
      "RangeIndex: 4364411 entries, 0 to 4364410\n",
      "Data columns (total 3 columns):\n",
      " #   Column  Dtype  \n",
      "---  ------  -----  \n",
      " 0   from    object \n",
      " 1   to      object \n",
      " 2   weight  float64\n",
      "dtypes: float64(1), object(2)\n",
      "memory usage: 99.9+ MB\n",
      "4583 / 18450  |  5411\n",
      "16649 / 18450  |  22164\n"
     ]
    }
   ],
   "execution_count": 97
  },
  {
   "metadata": {
    "ExecuteTime": {
     "end_time": "2025-05-12T16:30:38.137362Z",
     "start_time": "2025-05-12T16:30:38.133576Z"
    }
   },
   "cell_type": "code",
   "source": [
    "import scipy\n",
    "def get_expressed_genes(adata, pct):\n",
    "    n_cells_in_matrix = adata.shape[0]\n",
    "    # Calculate proportions for all genes at once using numpy operations\n",
    "    proportion = (adata.X > 0.1).sum(axis=0) / n_cells_in_matrix\n",
    "    # For sparse matrix, need to convert to array\n",
    "    if scipy.sparse.issparse(proportion):\n",
    "        proportion = proportion.A1\n",
    "    # Get indices where proportion >= pct\n",
    "    genes = adata.var_names[proportion >= pct]\n",
    "    return genes\n"
   ],
   "id": "e32255a1eb36908e",
   "outputs": [],
   "execution_count": 137
  },
  {
   "metadata": {
    "ExecuteTime": {
     "end_time": "2025-05-12T16:08:48.624018Z",
     "start_time": "2025-05-12T16:08:47.046491Z"
    }
   },
   "cell_type": "code",
   "source": [
    "all_receptors = set(gr_df[\"to\"])\n",
    "expressed_genes_receiver = get_expressed_genes(subsample_x_hat_s, 0.1)\n",
    "expressed_receptors = all_receptors.intersection(expressed_genes_receiver)\n",
    "potential_ligands = gr_df.loc[gr_df[\"to\"].isin(expressed_receptors),\"from\"].unique()"
   ],
   "id": "910a7e98157e50b4",
   "outputs": [],
   "execution_count": 110
  },
  {
   "metadata": {
    "ExecuteTime": {
     "end_time": "2025-05-12T16:30:41.465858Z",
     "start_time": "2025-05-12T16:30:40.394908Z"
    }
   },
   "cell_type": "code",
   "source": [
    "potential_ligands = {}\n",
    "for i, cell_type in enumerate(SUBCLASSES_TO_EXPLORE):\n",
    "    print(\"Iteration {} for celltype {}\".format(i, cell_type))\n",
    "    subsample_x_hat_s = x_hat_s[x_hat_s.obs[\"subclass\"] == cell_type]\n",
    "    print(\"\\tDimension of subsample {}\".format(subsample_x_hat_s.shape))\n",
    "    expressed_genes_receiver = get_expressed_genes(subsample_x_hat_s, 0.1)\n",
    "    expressed_receptors = all_receptors.intersection(expressed_genes_receiver)\n",
    "    potential_ligands[cell_type] = gr_df.loc[gr_df[\"to\"].isin(expressed_receptors),\"from\"].unique()"
   ],
   "id": "b02d20b3a0ab1834",
   "outputs": [
    {
     "name": "stdout",
     "output_type": "stream",
     "text": [
      "Iteration 0 for celltype Astro\n",
      "\tDimension of subsample (537, 18450)\n",
      "Iteration 1 for celltype L2/3 IT\n",
      "\tDimension of subsample (1178, 18450)\n"
     ]
    }
   ],
   "execution_count": 138
  },
  {
   "metadata": {
    "ExecuteTime": {
     "end_time": "2025-05-12T16:31:20.586992Z",
     "start_time": "2025-05-12T16:31:20.582329Z"
    }
   },
   "cell_type": "code",
   "source": [
    "print(\n",
    "    len(set(potential_ligands[\"Astro\"]).intersection(set(potential_ligands[\"L2/3 IT\"]))),\n",
    "    \"/\", len(potential_ligands[\"L2/3 IT\"]), \" | \", len(set(potential_ligands[\"Astro\"]))\n",
    ")"
   ],
   "id": "9eef2a2f2a424b48",
   "outputs": [
    {
     "name": "stdout",
     "output_type": "stream",
     "text": [
      "4611 / 4827  |  4622\n"
     ]
    }
   ],
   "execution_count": 142
  }
 ],
 "metadata": {
  "kernelspec": {
   "display_name": "Python 3",
   "language": "python",
   "name": "python3"
  },
  "language_info": {
   "codemirror_mode": {
    "name": "ipython",
    "version": 2
   },
   "file_extension": ".py",
   "mimetype": "text/x-python",
   "name": "python",
   "nbconvert_exporter": "python",
   "pygments_lexer": "ipython2",
   "version": "2.7.6"
  }
 },
 "nbformat": 4,
 "nbformat_minor": 5
}
