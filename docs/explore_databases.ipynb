{
 "cells": [
  {
   "cell_type": "code",
   "id": "initial_id",
   "metadata": {
    "collapsed": true
   },
   "source": [
    "import decoupler as dc\n",
    "from pathlib import Path\n",
    "import os\n",
    "import nichecompass as nc\n",
    "import pandas as pd\n",
    "import numpy as np"
   ],
   "outputs": [],
   "execution_count": null
  },
  {
   "metadata": {},
   "cell_type": "markdown",
   "source": [
    "# Explore different databases\n",
    "From Niche compass we can query:\n",
    "- omnipath lr interactions\n",
    "- collectri tf networks\n",
    "- mebocost es interactions\n",
    "- nichenet lrt interactions\n",
    "\n",
    "From Decoupler we can query omnipath with the following resources:"
   ],
   "id": "b78c82cc55344017"
  },
  {
   "metadata": {},
   "cell_type": "code",
   "source": "dc.show_resources()",
   "id": "cb32a1388563e13a",
   "outputs": [],
   "execution_count": null
  },
  {
   "metadata": {},
   "cell_type": "markdown",
   "source": [
    "## Let's start with gene programs from Niche compass\n",
    "\n",
    "### Omnipath apy for lr interactions of mouse organism"
   ],
   "id": "eec7282ac202cee1"
  },
  {
   "metadata": {},
   "cell_type": "code",
   "source": [
    "lr_interactions = nc.utils.extract_gp_dict_from_omnipath_lr_interactions(\n",
    "    species=\"mouse\",\n",
    "    gene_orthologs_mapping_file_path=Path(os.getcwd()).parents[0] / \"data\" / \"raw\" / \"human_mouse_gene_orthologs.csv\",\n",
    "    plot_gp_gene_count_distributions=False,\n",
    ")\n",
    "print(type(lr_interactions))"
   ],
   "id": "3c82dc57af388be3",
   "outputs": [],
   "execution_count": null
  },
  {
   "metadata": {},
   "cell_type": "code",
   "source": [
    "lr_df = pd.DataFrame.from_dict(lr_interactions, orient='index')\n",
    "lr_df.targets_categories.value_counts()"
   ],
   "id": "2ec489750930a38c",
   "outputs": [],
   "execution_count": null
  },
  {
   "metadata": {},
   "cell_type": "code",
   "source": "lr_df",
   "id": "75194f1a9da50037",
   "outputs": [],
   "execution_count": null
  },
  {
   "metadata": {},
   "cell_type": "markdown",
   "source": "## Extract liana consensus LR database",
   "id": "ef5f25fe693220c1"
  },
  {
   "metadata": {},
   "cell_type": "code",
   "source": [
    "import liana as li\n",
    "li.resource.show_resources()"
   ],
   "id": "bf2e3b44001666fe",
   "outputs": [],
   "execution_count": null
  },
  {
   "metadata": {},
   "cell_type": "code",
   "source": "lr_consensus = li.resource.select_resource(\"mouseconsensus\")",
   "id": "af1da0ff3933bbfe",
   "outputs": [],
   "execution_count": null
  },
  {
   "metadata": {},
   "cell_type": "code",
   "source": "lr_consensus",
   "id": "f2ed46656d255d15",
   "outputs": [],
   "execution_count": null
  },
  {
   "metadata": {},
   "cell_type": "markdown",
   "source": "## Extract nichenet lrt interactions",
   "id": "7f1f44f969b9cb5"
  },
  {
   "metadata": {},
   "cell_type": "code",
   "source": [
    "lrt_interactions = nc.utils.extract_gp_dict_from_nichenet_lrt_interactions(\n",
    "    species=\"mouse\",\n",
    "    gene_orthologs_mapping_file_path=Path(os.getcwd()).parents[0] / \"data\" / \"raw\" / \"human_mouse_gene_orthologs.csv\",\n",
    "    plot_gp_gene_count_distributions=False,\n",
    ")"
   ],
   "id": "acbbe127c76e36da",
   "outputs": [],
   "execution_count": null
  },
  {
   "metadata": {},
   "cell_type": "code",
   "source": "lrt_df = pd.DataFrame.from_dict(lrt_interactions, orient='index')\n",
   "id": "52cc8d0376c95813",
   "outputs": [],
   "execution_count": null
  },
  {
   "metadata": {},
   "cell_type": "markdown",
   "source": "### Reading nichenet weighted networks for mouse from resource etracted from main nichenet repo",
   "id": "321fa14d032d36dd"
  },
  {
   "metadata": {},
   "cell_type": "code",
   "source": [
    "gr_df = pd.read_csv(Path(os.getcwd()).parents[0] / \"data\" / \"raw\" / \"gr.csv\",)\n",
    "lr_sig_df = pd.read_csv(Path(os.getcwd()).parents[0] / \"data\" / \"raw\" / \"lr_sig.csv\",)\n",
    "\n",
    "print(gr_df.info())\n",
    "print(lr_sig_df.info())"
   ],
   "id": "d63b104c856d2cef",
   "outputs": [],
   "execution_count": null
  },
  {
   "metadata": {},
   "cell_type": "markdown",
   "source": "## Extract mebocost es interactions",
   "id": "9f023437fd78609d"
  },
  {
   "metadata": {},
   "cell_type": "code",
   "source": [
    "es_interactions = nc.utils.extract_gp_dict_from_mebocost_es_interactions(\n",
    "    species=\"mouse\",\n",
    "    plot_gp_gene_count_distributions=False,\n",
    "    dir_path=str(Path(os.getcwd()).parents[0] / \"data\" / \"raw\")\n",
    ")"
   ],
   "id": "b8d17b1b17b97d01",
   "outputs": [],
   "execution_count": null
  },
  {
   "metadata": {},
   "cell_type": "code",
   "source": [
    "es_df = pd.DataFrame.from_dict(es_interactions, orient='index').reset_index()\n",
    "es_df.columns = ['es_name', 'sources', 'sources_categories', 'targets', 'targets_categories']\n",
    "es_df = es_df.set_index('es_name')\n",
    "es_df.info()"
   ],
   "id": "e5cc192af7ff65a6",
   "outputs": [],
   "execution_count": null
  },
  {
   "metadata": {},
   "cell_type": "markdown",
   "source": "## Extract niche compass gene program idea behind collectri TF network",
   "id": "3bf393bc69f12a91"
  },
  {
   "metadata": {},
   "cell_type": "code",
   "source": [
    "tf_network = nc.utils.extract_gp_dict_from_collectri_tf_network(\n",
    "    species=\"mouse\",\n",
    "    plot_gp_gene_count_distributions=False,\n",
    ")"
   ],
   "id": "3790971ad9cb2f82",
   "outputs": [],
   "execution_count": null
  },
  {
   "metadata": {},
   "cell_type": "code",
   "source": [
    "tf_df = pd.DataFrame.from_dict(tf_network, orient='index').reset_index()\n",
    "tf_df.columns = ['tf_name', 'sources', 'sources_categories', 'targets', 'targets_categories']\n",
    "tf_df = tf_df.set_index('tf_name')\n",
    "tf_df.info()"
   ],
   "id": "a2b1adb3703fc451",
   "outputs": [],
   "execution_count": null
  },
  {
   "metadata": {},
   "cell_type": "markdown",
   "source": "# Extract decoupler collectri",
   "id": "a02c3b687f579424"
  },
  {
   "metadata": {},
   "cell_type": "code",
   "source": [
    "net = dc.get_collectri(\n",
    "    organism = \"mouse\",\n",
    "    split_complexes=False,\n",
    ")"
   ],
   "id": "8936a507dc8e9c58",
   "outputs": [],
   "execution_count": null
  },
  {
   "metadata": {},
   "cell_type": "code",
   "source": "net.info()",
   "id": "b1774fe4addd6535",
   "outputs": [],
   "execution_count": null
  },
  {
   "metadata": {},
   "cell_type": "markdown",
   "source": "# Example of a data that we can intersect with the features of these metaresources",
   "id": "b6f42b6e09043eef"
  },
  {
   "metadata": {},
   "cell_type": "code",
   "source": [
    "import anndata as ad\n",
    "x_hat_s = ad.read_h5ad(Path(os.getcwd()).parents[0] / \"data\" / \"processed\" / \"mouse1_slice153_x_hat_s.h5ad\")"
   ],
   "id": "21e23987d888c683",
   "outputs": [],
   "execution_count": null
  },
  {
   "metadata": {},
   "cell_type": "code",
   "source": [
    "lr_df = lr_consensus.copy()\n",
    "lr_df.info()\n",
    "\n",
    "lr_df_exploded = li.resource.explode_complexes(lr_df, SOURCE=\"ligand\", TARGET=\"receptor\")\n",
    "lr_df_exploded.info()"
   ],
   "id": "4070e6a58d84852b",
   "outputs": [],
   "execution_count": null
  },
  {
   "metadata": {},
   "cell_type": "code",
   "source": [
    "lr_df[\"ligand\"] = lr_df[\"ligand\"].str.lower()\n",
    "lr_df[\"receptor\"] = lr_df[\"receptor\"].str.lower()\n",
    "print(\n",
    "    len(set(x_hat_s.var_names).intersection(set(lr_df[\"ligand\"]))), \"/\", len(x_hat_s.var_names), \" | \", len(set(lr_df[\"ligand\"]))\n",
    "    )\n",
    "print(\n",
    "    len(set(x_hat_s.var_names).intersection(set(lr_df[\"receptor\"]))), \"/\", len(x_hat_s.var_names), \" | \", len(set(lr_df[\"receptor\"]))\n",
    "    )\n"
   ],
   "id": "6ecbecaf034524f9",
   "outputs": [],
   "execution_count": null
  },
  {
   "metadata": {},
   "cell_type": "code",
   "source": [
    "lr_df_exploded[\"ligand\"] = lr_df_exploded[\"ligand\"].str.lower()\n",
    "lr_df_exploded[\"receptor\"] = lr_df_exploded[\"receptor\"].str.lower()\n",
    "print(\n",
    "    len(set(x_hat_s.var_names).intersection(set(lr_df_exploded[\"ligand\"]))), \"/\", len(x_hat_s.var_names), \" | \", len(set(lr_df_exploded[\"ligand\"]))\n",
    "    )\n",
    "print(\n",
    "    len(set(x_hat_s.var_names).intersection(set(lr_df_exploded[\"receptor\"]))), \"/\", len(x_hat_s.var_names), \" | \", len(set(lr_df_exploded[\"receptor\"]))\n",
    "    )\n"
   ],
   "id": "52489abf4dee5824",
   "outputs": [],
   "execution_count": null
  },
  {
   "metadata": {},
   "cell_type": "code",
   "source": [
    "import squidpy as sq\n",
    "class_labels = x_hat_s.obs[\"class_label\"].astype(\"category\").cat.categories\n",
    "subclass_labels = x_hat_s.obs[\"subclass\"].astype(\"category\").cat.categories\n",
    "print(subclass_labels)\n",
    "\n",
    "x_hat_s.obsm[\"spatial\"] = np.array([(x,y) for x,y in zip(x_hat_s.obs[\"centroid_x\"], x_hat_s.obs[\"centroid_y\"])])\n",
    "for label in subclass_labels:\n",
    "    subsample_x_hat_s = x_hat_s[x_hat_s.obs[\"subclass\"] == label]\n",
    "    if subsample_x_hat_s.shape[0] <100:\n",
    "        continue"
   ],
   "id": "932fe37906aafd3c",
   "outputs": [],
   "execution_count": null
  },
  {
   "metadata": {},
   "cell_type": "code",
   "source": [
    "import omnipath as op\n",
    "resource = op.interactions.PostTranslational.get()"
   ],
   "id": "28062c94f99eef59",
   "outputs": [],
   "execution_count": null
  },
  {
   "metadata": {},
   "cell_type": "code",
   "source": [
    "gr_df.info()\n",
    "gr_df[\"from\"] = gr_df[\"from\"].str.lower()\n",
    "gr_df[\"to\"] = gr_df[\"to\"].str.lower()\n",
    "\n",
    "SUBCLASSES_TO_EXPLORE = [\"Astro\", \"L2/3 IT\"]\n",
    "x_hat_s_subsampled = x_hat_s[x_hat_s.obs[\"subclass\"].isin(SUBCLASSES_TO_EXPLORE)]\n",
    "print(\n",
    "    len(set(x_hat_s_subsampled.var_names).intersection(set(gr_df[\"from\"]))), \"/\", len(x_hat_s_subsampled.var_names), \" | \", len(set(gr_df[\"from\"]))\n",
    "    )\n",
    "print(\n",
    "    len(set(x_hat_s_subsampled.var_names).intersection(set(gr_df[\"to\"]))), \"/\", len(x_hat_s_subsampled.var_names), \" | \", len(set(gr_df[\"to\"]))\n",
    "    )"
   ],
   "id": "a8b59e67085ad14f",
   "outputs": [],
   "execution_count": null
  },
  {
   "metadata": {},
   "cell_type": "code",
   "source": [
    "import scipy\n",
    "def get_expressed_genes(adata, pct):\n",
    "    n_cells_in_matrix = adata.shape[0]\n",
    "    # Calculate proportions for all genes at once using numpy operations\n",
    "    proportion = (adata.X > 0.1).sum(axis=0) / n_cells_in_matrix\n",
    "    # For sparse matrix, need to convert to array\n",
    "    if scipy.sparse.issparse(proportion):\n",
    "        proportion = proportion.A1\n",
    "    # Get indices where proportion >= pct\n",
    "    genes = adata.var_names[proportion >= pct]\n",
    "    return genes\n"
   ],
   "id": "e32255a1eb36908e",
   "outputs": [],
   "execution_count": null
  },
  {
   "metadata": {},
   "cell_type": "code",
   "source": [
    "all_receptors = set(gr_df[\"to\"])\n",
    "expressed_genes_receiver = get_expressed_genes(subsample_x_hat_s, 0.1)\n",
    "expressed_receptors = all_receptors.intersection(expressed_genes_receiver)\n",
    "potential_ligands = gr_df.loc[gr_df[\"to\"].isin(expressed_receptors),\"from\"].unique()"
   ],
   "id": "910a7e98157e50b4",
   "outputs": [],
   "execution_count": null
  },
  {
   "metadata": {},
   "cell_type": "code",
   "source": [
    "potential_ligands = {}\n",
    "for i, cell_type in enumerate(SUBCLASSES_TO_EXPLORE):\n",
    "    print(\"Iteration {} for celltype {}\".format(i, cell_type))\n",
    "    subsample_x_hat_s = x_hat_s[x_hat_s.obs[\"subclass\"] == cell_type]\n",
    "    print(\"\\tDimension of subsample {}\".format(subsample_x_hat_s.shape))\n",
    "    expressed_genes_receiver = get_expressed_genes(subsample_x_hat_s, 0.1)\n",
    "    expressed_receptors = all_receptors.intersection(expressed_genes_receiver)\n",
    "    potential_ligands[cell_type] = gr_df.loc[gr_df[\"to\"].isin(expressed_receptors),\"from\"].unique()"
   ],
   "id": "b02d20b3a0ab1834",
   "outputs": [],
   "execution_count": null
  },
  {
   "metadata": {},
   "cell_type": "code",
   "source": [
    "print(\n",
    "    len(set(potential_ligands[\"Astro\"]).intersection(set(potential_ligands[\"L2/3 IT\"]))),\n",
    "    \"/\", len(potential_ligands[\"L2/3 IT\"]), \" | \", len(set(potential_ligands[\"Astro\"]))\n",
    ")"
   ],
   "id": "9eef2a2f2a424b48",
   "outputs": [],
   "execution_count": null
  }
 ],
 "metadata": {
  "kernelspec": {
   "display_name": "Python 3",
   "language": "python",
   "name": "python3"
  },
  "language_info": {
   "codemirror_mode": {
    "name": "ipython",
    "version": 2
   },
   "file_extension": ".py",
   "mimetype": "text/x-python",
   "name": "python",
   "nbconvert_exporter": "python",
   "pygments_lexer": "ipython2",
   "version": "2.7.6"
  }
 },
 "nbformat": 4,
 "nbformat_minor": 5
}
