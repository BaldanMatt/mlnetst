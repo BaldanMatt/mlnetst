{
 "cells": [
  {
   "metadata": {
    "ExecuteTime": {
     "end_time": "2025-05-13T06:38:51.596995Z",
     "start_time": "2025-05-13T06:38:51.593834Z"
    }
   },
   "cell_type": "code",
   "source": [
    "import os\n",
    "\n",
    "import anndata\n",
    "import anndata as ad\n",
    "from pathlib import Path\n",
    "import os"
   ],
   "id": "622713b5a750bd31",
   "outputs": [],
   "execution_count": 2
  },
  {
   "metadata": {},
   "cell_type": "markdown",
   "source": "# Loading data",
   "id": "909f2d4a045ffc85"
  },
  {
   "metadata": {},
   "cell_type": "code",
   "outputs": [],
   "execution_count": null,
   "source": "x_hat_s = anndata.read_h5ad(Path(os.getcwd()).parents[0] / \"data\" / \"processed\" / \"mouse1_slice153_x_hat_s.h5ad\")\n",
   "id": "10142840172ad56f"
  },
  {
   "metadata": {},
   "cell_type": "markdown",
   "source": [
    "# Method\n",
    "## Calculate Ligand and Receptor score"
   ],
   "id": "707f9da8ac5bcd86"
  },
  {
   "metadata": {},
   "cell_type": "markdown",
   "source": "## Calculate Ligand and Receptor Pair Score",
   "id": "edf1966180f0cd0f"
  },
  {
   "metadata": {},
   "cell_type": "markdown",
   "source": "## Calculate TF activity",
   "id": "f3ca548f8ef55204"
  },
  {
   "metadata": {},
   "cell_type": "markdown",
   "source": "## Calculate Intracellular score",
   "id": "3c7eefe82a7d6fe"
  }
 ],
 "metadata": {},
 "nbformat": 4,
 "nbformat_minor": 5
}
